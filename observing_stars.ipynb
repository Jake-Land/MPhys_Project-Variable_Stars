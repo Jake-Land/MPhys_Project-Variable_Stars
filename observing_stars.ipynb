{
 "cells": [
  {
   "cell_type": "code",
   "execution_count": 2,
   "id": "74881f53-0575-4407-b059-1584f4d399ed",
   "metadata": {},
   "outputs": [],
   "source": [
    "import numpy as np\n",
    "import matplotlib.pyplot as plt\n",
    "from astropy.modeling import models, fitting\n",
    "from astropy.modeling.models import custom_model\n",
    "from astropy.modeling import Fittable1DModel, Parameter\n",
    "from astropy.time import Time\n",
    "from astroquery.simbad import Simbad\n",
    "import juliandate as jd\n",
    "from datetime import datetime, timedelta\n",
    "import pandas as pd\n",
    "from astroquery.gaia import Gaia"
   ]
  },
  {
   "cell_type": "markdown",
   "id": "6f795e78-7d7e-437a-bb6c-ca1e459c1ed3",
   "metadata": {},
   "source": [
    "We have N stars each with period p_(n), p_(n+1), etc... We need to maximise phase coverage for our observations, i.e. no observing that star at the same phase more than once.\n",
    "\n",
    "How to do this: For a specific star, n, calculate time difference between previous observations and the time for the current observation, del_t = t_0 - t_i. Divide these times by the period, phase_t = del_t/p. Discard all phase_t except for the one closest to a whole integer. If phase_t is an integer then we are observing at a phase already observed. For all N stars find the phase_t furthest from an integer (closest to 0.5, 1.5, ...) and observe it. Repeat untill we have measurements for the entire phase for all N stars."
   ]
  },
  {
   "cell_type": "markdown",
   "id": "58aeacad-ba41-4277-8e43-68133cfa59d1",
   "metadata": {},
   "source": [
    "Code:\n",
    "\n",
    "current_time = getDate\n",
    "star_greatest_offset = 0\n",
    "target_star = []\n",
    "\n",
    "for star in starsCatalog:\n",
    "    greatest_offset = 0\n",
    "    for observation in star[\"observations\"]:\n",
    "        phase_t = []\n",
    "        offset = (current_time - observation[\"date\"] / star[\"period\"]) % 1\n",
    "        if offset >= 0.5:\n",
    "            offset = 1 - offset\n",
    "        if offset > greatest_offset:\n",
    "            greatest_offset = offset\n",
    "    if greatest_offset > star_greatest_offset:\n",
    "        target_star = star\n",
    "\n",
    "//observe target_star\n"
   ]
  },
  {
   "cell_type": "code",
   "execution_count": 3,
   "id": "db65a8e4-718d-4a63-a079-393491f84643",
   "metadata": {},
   "outputs": [],
   "source": [
    "ts = pd.Timestamp(datetime.now())\n",
    "current_time = ts.to_julian_date()\n",
    "#print(ts)\n",
    "#print(current_time)"
   ]
  },
  {
   "cell_type": "code",
   "execution_count": 144,
   "id": "1f4e2e27-6a98-4961-a78e-471239eba567",
   "metadata": {},
   "outputs": [],
   "source": [
    "\n",
    "# Create star catalogue\n",
    "#target_stars = ('RV UMa', 'RZ Cep', 'RR Lyr')\n",
    "\n",
    "#for star in target_stars:\n",
    "#query = f\"\"\"\n",
    "#SELECT basic.main_id, vartyp AS type, ROUND(AVG(period), 6) AS period\n",
    "#FROM basic\n",
    "#JOIN mesVar ON basic.oid = mesVar.oidref\n",
    "#WHERE basic.otype = 'RR*'\n",
    "#AND main_id IN {target_stars}\n",
    "#GROUP BY basic.main_id, vartyp\n",
    "#HAVING vartyp = 'RRAB' OR vartyp = 'RRC'\n",
    "#\"\"\"\n",
    "#result = Simbad.query_tap(query)\n",
    "#print(result)\n",
    "#stars_df = result.to_pandas()\n",
    "#stars_df.main_id = [ star.replace('V*', '').strip() for star in stars_df.main_id]\n",
    "#stars_df\n"
   ]
  },
  {
   "cell_type": "code",
   "execution_count": 146,
   "id": "30940f76-ffc3-4bb3-b38a-9b20b5f592f7",
   "metadata": {},
   "outputs": [
    {
     "data": {
      "text/plain": [
       "('1561928427003019520', '2211629018927324288', '2125982599343482624')"
      ]
     },
     "execution_count": 146,
     "metadata": {},
     "output_type": "execute_result"
    }
   ],
   "source": [
    "RV_UMa = {\n",
    "    \"name\": \"RV UMa\",\n",
    "    \"id\": \"1561928427003019520\"\n",
    "}\n",
    "\n",
    "RZ_Cep = {\n",
    "    \"name\": \"RZ Cep\",\n",
    "    \"id\": \"2211629018927324288\"\n",
    "}\n",
    "\n",
    "RR_Lyr = {\n",
    "    \"name\": \"RR Lyr\",\n",
    "    \"id\": \"2125982599343482624\"\n",
    "}\n",
    "\n",
    "target_stars = (RV_UMa['id'], RZ_Cep['id'], RR_Lyr['id'])\n",
    "target_stars"
   ]
  },
  {
   "cell_type": "code",
   "execution_count": 86,
   "id": "c04b5b33-1fcd-4b69-a029-c84ec59348a5",
   "metadata": {},
   "outputs": [
    {
     "name": "stdout",
     "output_type": "stream",
     "text": [
      "INFO: Query finished. [astroquery.utils.tap.core]\n"
     ]
    }
   ],
   "source": [
    "query = f\"\"\"\n",
    "        SELECT  rr.source_id, rr.pf, rr.p1_o , rr.best_classification\n",
    "        FROM gaiadr3.vari_rrlyrae AS rr\n",
    "        WHERE source_id IN (1561928427003019520, 2211629018927324288, 2125982599343482624)\n",
    "        \"\"\"\n",
    "job = Gaia.launch_job_async(query)\n",
    "results = job.get_results()\n",
    "\n",
    "results_df = results.to_pandas()\n",
    "cols = ['pf', 'p1_o']\n",
    "results_df = results_df.assign(period=results_df[cols].sum(1)).drop(cols, axis=1)\n",
    "results_df.rename(columns={'source_id' : 'main_id', 'best_classification' : 'type'}, inplace=True)\n",
    "stars_df = results_df\n",
    "stars_df['main_id'] = stars_df['main_id'].astype(str)\n"
   ]
  },
  {
   "cell_type": "code",
   "execution_count": 147,
   "id": "2b7c41c7-d3d9-4aa7-86f6-289abb6a066a",
   "metadata": {},
   "outputs": [],
   "source": [
    "#Create dummy observation times\n",
    "\n",
    "dummy_time = pd.Timestamp('2025-09-23 21:09:02.442422')\n",
    "dummy_obs = []\n",
    "for i in range(15):\n",
    "    dummy_julian_time = dummy_time.to_julian_date()\n",
    "    dummy_time = dummy_time + timedelta(minutes = 10)\n",
    "\n",
    "    dummy_obs.append((dummy_julian_time, target_stars[i % 3]))\n",
    "            \n",
    "\n",
    "observations_df = pd.DataFrame(dummy_obs, columns=[\"obs_times\", \"main_id\"])\n",
    "#observations_df"
   ]
  },
  {
   "cell_type": "code",
   "execution_count": 148,
   "id": "9fd6fb26-3788-4a80-b884-3a2fb94ec9c6",
   "metadata": {},
   "outputs": [],
   "source": [
    "catalogue_df = pd.merge(observations_df, stars_df)\n",
    "#catalogue_df"
   ]
  },
  {
   "cell_type": "code",
   "execution_count": 149,
   "id": "178020d8-91db-447e-8e6b-19a8cd3a7583",
   "metadata": {},
   "outputs": [],
   "source": [
    "def find_next_target_star(star_catalogue, time):\n",
    "    star_greatest_offset = 0 # Greatest offest for each of the target stars\n",
    "    target_star = \"\"\n",
    "    for star in star_catalogue[\"main_id\"].unique():\n",
    "        star_data = star_catalogue[star_catalogue[\"main_id\"] == star]\n",
    "        obs_times = star_data[\"obs_times\"]\n",
    "        period = star_data[\"period\"]\n",
    "        phase = ((time - obs_times) / period) % 1\n",
    "        smallest_offset = 0.5\n",
    "        offset = [1 - x if x >= 0.5 else x for x in phase]\n",
    "        star_offset = min(offset) \n",
    "        #print(star, star_offset)\n",
    "        if star_offset > star_greatest_offset:\n",
    "            star_greatest_offset = star_offset\n",
    "            target_star = star\n",
    "    return(target_star)"
   ]
  },
  {
   "cell_type": "code",
   "execution_count": 150,
   "id": "8d4f3f0a-9add-4476-8aa0-77ea854938f8",
   "metadata": {},
   "outputs": [
    {
     "data": {
      "text/plain": [
       "'1561928427003019520'"
      ]
     },
     "execution_count": 150,
     "metadata": {},
     "output_type": "execute_result"
    }
   ],
   "source": [
    "find_next_target_star(catalogue_df, current_time)"
   ]
  },
  {
   "cell_type": "markdown",
   "id": "971d9326-5b23-4ed5-aee3-ce450a169f4b",
   "metadata": {},
   "source": [
    "Next: For any time, t in observation period t_start to t_end, find the priority star.\n",
    "instead of current_time, use t_start then increase time by n minutes untill t = t_end.\n",
    "At each t find the star that should be observed then add that observation to a new df.\n",
    "Run the func again with new obs_times included.(?) "
   ]
  },
  {
   "cell_type": "code",
   "execution_count": 151,
   "id": "dfc7ed68-2dcc-4123-8ee0-15481dd159e5",
   "metadata": {},
   "outputs": [],
   "source": [
    "def observation_plan(start_time, end_time, time_step, star_catalogue):\n",
    "    dummy_obs_df = star_catalogue.copy()\n",
    "    time_at_obs = start_time\n",
    "    t_step_days = time_step / 1440 # Convert minutes to days\n",
    "    observation_plan = []\n",
    "    while time_at_obs < end_time:\n",
    "        target_star = find_next_target_star(dummy_obs_df, time_at_obs)\n",
    "    \n",
    "        new_row = pd.DataFrame({\n",
    "            \"obs_times\": time_at_obs,\n",
    "            \"main_id\": target_star,\n",
    "            \"type\": [stars_df[stars_df['main_id'] == f'{target_star}'][\"type\"].iloc[0]],\n",
    "            \"period\": [stars_df[stars_df['main_id'] == f'{target_star}'][\"period\"].iloc[0]]\n",
    "        })\n",
    "        dummy_obs_df = pd.concat([dummy_obs_df, new_row], ignore_index=True)\n",
    "        time_at_obs += t_step_days\n",
    "        \n",
    "        observation_plan.append((target_star, Time(time_at_obs, format='jd').to_datetime()))\n",
    "    return observation_plan\n"
   ]
  },
  {
   "cell_type": "code",
   "execution_count": 152,
   "id": "d99a2cf5-cc06-4f0a-8f7b-0dd6c65d6d5f",
   "metadata": {},
   "outputs": [
    {
     "data": {
      "text/plain": [
       "[('1561928427003019520', datetime.datetime(2025, 10, 9, 14, 10, 0, 18)),\n",
       " ('2125982599343482624', datetime.datetime(2025, 10, 9, 14, 20, 0, 22)),\n",
       " ('2211629018927324288', datetime.datetime(2025, 10, 9, 14, 30, 0, 27)),\n",
       " ('1561928427003019520', datetime.datetime(2025, 10, 9, 14, 40, 0, 31)),\n",
       " ('2211629018927324288', datetime.datetime(2025, 10, 9, 14, 50, 0, 36)),\n",
       " ('2125982599343482624', datetime.datetime(2025, 10, 9, 15, 0, 0, 40)),\n",
       " ('1561928427003019520', datetime.datetime(2025, 10, 9, 15, 10, 0, 45)),\n",
       " ('2125982599343482624', datetime.datetime(2025, 10, 9, 15, 20, 0, 49)),\n",
       " ('1561928427003019520', datetime.datetime(2025, 10, 9, 15, 30, 0, 54)),\n",
       " ('2125982599343482624', datetime.datetime(2025, 10, 9, 15, 40, 0, 58)),\n",
       " ('1561928427003019520', datetime.datetime(2025, 10, 9, 15, 50, 0, 63)),\n",
       " ('2125982599343482624', datetime.datetime(2025, 10, 9, 16, 0, 0, 67)),\n",
       " ('1561928427003019520', datetime.datetime(2025, 10, 9, 16, 10, 0, 72)),\n",
       " ('2125982599343482624', datetime.datetime(2025, 10, 9, 16, 20, 0, 76)),\n",
       " ('1561928427003019520', datetime.datetime(2025, 10, 9, 16, 30, 0, 80)),\n",
       " ('2125982599343482624', datetime.datetime(2025, 10, 9, 16, 40, 0, 85)),\n",
       " ('1561928427003019520', datetime.datetime(2025, 10, 9, 16, 50, 0, 89)),\n",
       " ('2125982599343482624', datetime.datetime(2025, 10, 9, 17, 0, 0, 94)),\n",
       " ('1561928427003019520', datetime.datetime(2025, 10, 9, 17, 10, 0, 98)),\n",
       " ('2125982599343482624', datetime.datetime(2025, 10, 9, 17, 20, 0, 103)),\n",
       " ('1561928427003019520', datetime.datetime(2025, 10, 9, 17, 30, 0, 107)),\n",
       " ('2211629018927324288', datetime.datetime(2025, 10, 9, 17, 40, 0, 112)),\n",
       " ('2125982599343482624', datetime.datetime(2025, 10, 9, 17, 50, 0, 116)),\n",
       " ('2211629018927324288', datetime.datetime(2025, 10, 9, 18, 0, 0, 121))]"
      ]
     },
     "execution_count": 152,
     "metadata": {},
     "output_type": "execute_result"
    }
   ],
   "source": [
    "t_start = pd.Timestamp(\"2025-10-09T14:00:00\").to_julian_date()\n",
    "t_end = pd.Timestamp(\"2025-10-09T18:00:00\").to_julian_date()\n",
    "t_step = 10 # minutes\n",
    "\n",
    "observation_plan(t_start, t_end, t_step, catalogue_df)"
   ]
  }
 ],
 "metadata": {
  "kernelspec": {
   "display_name": "Python 3 (ipykernel)",
   "language": "python",
   "name": "python3"
  },
  "language_info": {
   "codemirror_mode": {
    "name": "ipython",
    "version": 3
   },
   "file_extension": ".py",
   "mimetype": "text/x-python",
   "name": "python",
   "nbconvert_exporter": "python",
   "pygments_lexer": "ipython3",
   "version": "3.12.11"
  }
 },
 "nbformat": 4,
 "nbformat_minor": 5
}
