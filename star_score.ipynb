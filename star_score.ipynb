{
 "cells": [
  {
   "cell_type": "code",
   "execution_count": 5,
   "id": "02784bb2-8904-4f2b-b6c6-52d39a000752",
   "metadata": {},
   "outputs": [],
   "source": [
    "import numpy as np"
   ]
  },
  {
   "cell_type": "code",
   "execution_count": 22,
   "id": "7010c5c5-5f21-4a46-9560-c5174bd854a9",
   "metadata": {},
   "outputs": [
    {
     "name": "stdout",
     "output_type": "stream",
     "text": [
      "INFO: Query finished. [astroquery.utils.tap.core]\n",
      "1     0.732477\n",
      "4     0.664991\n",
      "7     0.597505\n",
      "10    0.530018\n",
      "13    0.462532\n",
      "dtype: float64\n"
     ]
    }
   ],
   "source": [
    "%run ./observing_stars.ipynb"
   ]
  },
  {
   "cell_type": "markdown",
   "id": "3c45cba3-c8db-4b15-b862-9cb744ffe8d7",
   "metadata": {},
   "source": [
    "Based on Domínguez-Palmero, L. et al. (2018) Design of the observation queue scheduler for WEAVE on the WHT, p. 34. https://doi.org/10.1117/12.2312538."
   ]
  },
  {
   "cell_type": "markdown",
   "id": "da548a4d-9aab-439d-af94-6e458ed6a462",
   "metadata": {},
   "source": [
    "Score of a specific star :\n",
    "\n",
    "$$S_{total} = \\sum_{i=1}^{n} \\omega_{i} f_{i}(t) \\quad \\text{if all} \\quad f_{i}(t)\\neq0$$\n",
    "\n",
    "$$S_{total} = 0 \\quad \\text{if any} \\quad f_{i}(t)=0$$"
   ]
  },
  {
   "cell_type": "markdown",
   "id": "5a439b42-927e-48aa-9aec-fddfb31c6d26",
   "metadata": {},
   "source": [
    "| Parameter        | Scoring function | Contraints in the OB |\n",
    "|------------------|------------------|---------------------------------------------------------------|\n",
    "| Seeing           | $f_{seeing}$     | Max seeing: $seeing_{OBmax}$                                  |\n",
    "| Sky Brightness   | $f_{sb}$         | Brightest sky: $sb_{OBbright}$                                |\n",
    "| Sky Transparency | $f_{stra}$       | Minimum sky transparency: $stra_{OBmin}$                      |\n",
    "| Hour Angle range | $f_{HA}$         | Earliest and latest hour angles: $HA_{OBmin}, HA_{OBmax}$     |\n",
    "| Priority         | $f_{OBtp}$       | Science Priority: $P_{OBsci}$ Override Priority: $P_{OBtovr}$ |\n",
    "| Overheads        | $f_{overheads}$  | -                                                             |"
   ]
  },
  {
   "cell_type": "code",
   "execution_count": null,
   "id": "5e3c8dee-9a21-4082-8408-5ee6916ea476",
   "metadata": {},
   "outputs": [],
   "source": [
    "# HARD CONSTRAINTS:\n",
    "\n",
    "# Telescope constraints\n",
    "# Instrument constraints\n",
    "# Minimum elevation\n",
    "# Minimum angular distance of the moon\n",
    "# Observing-conditions limits\n",
    "\n",
    "# ALSO NEED TO ADD:\n",
    "\n",
    "# Phase difference from next closest observation\n",
    "# Gradient of modelled flux"
   ]
  },
  {
   "cell_type": "code",
   "execution_count": 16,
   "id": "14c266e0-c32b-44e9-861d-7363d1453917",
   "metadata": {},
   "outputs": [],
   "source": [
    "# Scoring function for seeing:\n",
    "\n",
    "def seeing_score(airmass, seeing_zenith, maximum_seeing, seeing_max, seeing_min):\n",
    "    seeing = airmass**0.6 * seeing_zenith\n",
    "    if seeing > maximum_seeing:\n",
    "        return 0\n",
    "    if seeing <= maximum_seeing:\n",
    "        seeing_score  = (seeing_max - maximum_seeing + seeing_min) / ((maximum_seeing - seeing_min + 1) * (seeing_max - maximum_seeing + seeing))\n",
    "        return seeing_score\n",
    "    return 0"
   ]
  },
  {
   "cell_type": "code",
   "execution_count": 34,
   "id": "a3074ffb-2acf-4771-9e4c-6f2d8494a3ff",
   "metadata": {},
   "outputs": [],
   "source": [
    "# Scoring function for sky brightness:\n",
    "\n",
    "def sky_brightness_score(sky_brightness, brightest_sky, sb_min):\n",
    "    if sky_brightness >= brightest_sky:\n",
    "        sky_brightness_score = (brightest_sky + 1) / ((sb_min - brightest_sky + 1) * (sb_min - sky_brightness + brightest_sky + 1))\n",
    "        return sky_brightness_score\n",
    "    return 0"
   ]
  },
  {
   "cell_type": "code",
   "execution_count": 4,
   "id": "0e714442-9104-4bd7-9650-211d54437602",
   "metadata": {},
   "outputs": [],
   "source": [
    "# Scoring function for sky transparency:\n",
    "\n",
    "def sky_trans_score(sky_trans, min_sky_trans, sky_trans_max):\n",
    "    if sky_trans >= min_sky_trans:\n",
    "        sky_trans_score = (min_sky_trans + 1) / ((sky_trans_max - min_sky_trans + 1) * (sky_trans_max - sky_trans + min_sky_trans + 1))\n",
    "        return sky_trans_score\n",
    "    if sky_trans < min_sky_trans:\n",
    "        return 0\n",
    "    return 0"
   ]
  },
  {
   "cell_type": "code",
   "execution_count": 5,
   "id": "446aac6b-1dd0-45f4-9ea1-98f51bdc5a9e",
   "metadata": {},
   "outputs": [],
   "source": [
    "# Scoring function for hour angle:\n",
    "\n",
    "def hour_angle_score(HA_t, HA_max, HA_min):\n",
    "    if HA_t < HA_min and HA_t > HA_max:\n",
    "        return 0\n",
    "    HA_H = 0\n",
    "    if HA_min <= 0 and HA_max >= 0:\n",
    "        HA_H = 0\n",
    "    elif HA_min < 0 and HA_max < 0:\n",
    "        HA_H = HA_max\n",
    "    elif HA_min > 0 and HA_max > 0:\n",
    "        HA_H = HA_min\n",
    "    HA_range = np.absolute(HA_max - HA_min)\n",
    "    HA_dist = np.absolute(HA_t - HA_H)\n",
    "    hour_angle_score = 1 / ((HA_range + 1) * (HA_dist + 1))\n",
    "    return hour_angle_score"
   ]
  },
  {
   "cell_type": "code",
   "execution_count": 6,
   "id": "8d54b338-86a8-4821-b9be-9bec2da63573",
   "metadata": {},
   "outputs": [],
   "source": [
    "# Scoring function for priority:\n",
    "\n",
    "def priority_score(science_priority, override_priority):\n",
    "    priority_score = science_priority * override_priority\n",
    "    return priority_score"
   ]
  },
  {
   "cell_type": "code",
   "execution_count": 7,
   "id": "d0111aca-3099-497c-9449-780401c56145",
   "metadata": {},
   "outputs": [],
   "source": [
    "# Scoring function for overheads:\n",
    "\n",
    "def overheads_score(overheads):\n",
    "    overheads_score = 1 - (0.9 * overheads)\n",
    "    return overheads_score"
   ]
  },
  {
   "cell_type": "code",
   "execution_count": 18,
   "id": "6bb8bec8-31da-45af-b9df-8ba4d86ace87",
   "metadata": {},
   "outputs": [],
   "source": [
    "# Scoring function for phase offset:\n",
    "\n",
    "def phase_offset_score(phase_offset):\n",
    "    phase_offset_score = np.round(np.square(np.sin(np.pi * phase_offset)), 10)\n",
    "    return phase_offset_score"
   ]
  },
  {
   "cell_type": "code",
   "execution_count": 67,
   "id": "8f7bdc6b-6301-4baf-a4c6-677ffb38f662",
   "metadata": {},
   "outputs": [],
   "source": [
    "# Total score function:\n",
    "\n",
    "def total_score(scoring_functions):\n",
    "    total_score = 0\n",
    "    for function, weight in scoring_functions:\n",
    "        if function == 0:\n",
    "            total_score = 0\n",
    "            return total_score\n",
    "        total_score += weight * function\n",
    "    return total_score"
   ]
  },
  {
   "cell_type": "code",
   "execution_count": 19,
   "id": "794d0fcb-e706-4986-93fd-73457209a2ba",
   "metadata": {},
   "outputs": [
    {
     "data": {
      "text/plain": [
       "np.float64(0.7490925527)"
      ]
     },
     "execution_count": 19,
     "metadata": {},
     "output_type": "execute_result"
    }
   ],
   "source": [
    "phase_score = phase_offset_score(0.333)\n",
    "phase_score"
   ]
  },
  {
   "cell_type": "code",
   "execution_count": 141,
   "id": "6704c430-2029-4163-b1be-bcbafd4f9532",
   "metadata": {},
   "outputs": [
    {
     "data": {
      "text/plain": [
       "0.3739130434782609"
      ]
     },
     "execution_count": 141,
     "metadata": {},
     "output_type": "execute_result"
    }
   ],
   "source": [
    "seeing_score_star = seeing_score(1, 1, 1, 3, 0.3)\n",
    "sky_brightness_score_star = sky_brightness_score(20.5, 20.5, 22)\n",
    "sky_trans_score_star = sky_trans_score(0.7, 0.7, 0.88)\n",
    "hour_angle_score_star = hour_angle_score(0, 1.5, -0.5)\n",
    "priority_score_star = priority_score(1, 1)\n",
    "overheads_score_star = overheads_score(0)\n",
    "\n",
    "functions_star = np.array([\n",
    "    [seeing_score_star, 1],\n",
    "    [sky_brightness_score_star, 1],\n",
    "    [sky_trans_score_star, 1],\n",
    "    [hour_angle_score_star, 1],\n",
    "    [priority_score_star, 1],\n",
    "    [overheads_score_star, 1]\n",
    "])"
   ]
  },
  {
   "cell_type": "code",
   "execution_count": 104,
   "id": "26e99fe2-36f9-41b2-91c0-60c7a090c459",
   "metadata": {},
   "outputs": [
    {
     "data": {
      "text/plain": [
       "np.float64(3.924544836043826)"
      ]
     },
     "execution_count": 104,
     "metadata": {},
     "output_type": "execute_result"
    }
   ],
   "source": [
    "final_score = total_score(functions_star)\n",
    "final_score"
   ]
  },
  {
   "cell_type": "code",
   "execution_count": 23,
   "id": "5ee4d86a-1bad-48d4-b322-b9535a44bf56",
   "metadata": {},
   "outputs": [
    {
     "name": "stdout",
     "output_type": "stream",
     "text": [
      "1     0.732477\n",
      "4     0.664991\n",
      "7     0.597505\n",
      "10    0.530018\n",
      "13    0.462532\n",
      "dtype: float64\n"
     ]
    },
    {
     "data": {
      "text/plain": [
       "np.float64(0.5549380675)"
      ]
     },
     "execution_count": 23,
     "metadata": {},
     "output_type": "execute_result"
    }
   ],
   "source": [
    "phase_offset = find_phase_offset(RZ_Cep_data, current_time)\n",
    "phase_offset_score_star = phase_offset_score(phase_offset)\n",
    "phase_offset_score_star"
   ]
  }
 ],
 "metadata": {
  "kernelspec": {
   "display_name": "Python 3 (ipykernel)",
   "language": "python",
   "name": "python3"
  },
  "language_info": {
   "codemirror_mode": {
    "name": "ipython",
    "version": 3
   },
   "file_extension": ".py",
   "mimetype": "text/x-python",
   "name": "python",
   "nbconvert_exporter": "python",
   "pygments_lexer": "ipython3",
   "version": "3.12.11"
  }
 },
 "nbformat": 4,
 "nbformat_minor": 5
}
