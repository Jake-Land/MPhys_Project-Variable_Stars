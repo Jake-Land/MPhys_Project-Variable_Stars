{
 "cells": [
  {
   "cell_type": "code",
   "execution_count": 1,
   "id": "c412179b-3ca4-479c-87f8-a20611f1fda1",
   "metadata": {},
   "outputs": [],
   "source": [
    "from astroquery.simbad import Simbad\n",
    "from astropy.coordinates import SkyCoord, EarthLocation, AltAz, get_sun\n",
    "from astropy.time import Time\n",
    "import astropy.units as u\n",
    "import pandas as pd\n",
    "import numpy as np\n",
    "\n",
    "import matplotlib.pyplot as plt\n",
    "from matplotlib.dates import DateFormatter"
   ]
  },
  {
   "cell_type": "code",
   "execution_count": 2,
   "id": "9f28c111-e278-41e7-8c9e-0a2528bdb54d",
   "metadata": {},
   "outputs": [],
   "source": [
    "# Observation location, lat, long, elivation\n",
    "BPO = [51.372840, -2.319224, 200]\n",
    "\n",
    "# Observation Window\n",
    "start_date = \"2025-10-03T18:00:00\"\n",
    "end_date   = \"2025-10-05T06:00:00\""
   ]
  },
  {
   "cell_type": "markdown",
   "id": "71256259-a2b6-456e-afe3-30b480c15e1c",
   "metadata": {},
   "source": [
    "## Finding potential variable star targets from SIMBAD"
   ]
  },
  {
   "cell_type": "code",
   "execution_count": 3,
   "id": "2c8dbf23-7401-4ab4-aee5-90413cafd172",
   "metadata": {},
   "outputs": [],
   "source": [
    "## SIMBAD tables, I used these to figure out how to link the tables to get the data I want in the ADQL query\n",
    "#Simbad.list_columns(\"basic\")\n",
    "#Simbad.list_columns( \"flux\")\n",
    "#Simbad.list_columns( \"mesVar\")\n",
    "\n",
    "#List of varible stars from the Monson paper\n",
    "#Monson_RRL_stars =[\"SW And\", \"XX And\", \"WY Ant\", \"X Ari\", \"ST Boo\", \"UY Boo\", \"RR Cet\", \"W Crt\", \"UY Cyg\", \"XZ Cyg\", \"DX Del\", \"SU Dra\", \"SW Dra\", \"RX Eri\", \"SV Eri\", \"RR Gem\", \"TW Her\", \"VX Her\", \"SV Hya\", \"V Ind\", \"RR Leo\", \"TT Lyn\", \"RR Lyr\", \"RV Oct\", \"UV Oct\", \"AV Peg\", \"BH Peg\", \"BB Pup\", \"HK Pup\", \"RU Scl\", \"AN Ser\", \"V0440 Sgr\", \"V0675 Sgr\", \"AB UMa\", \"RV UMa\", \"TU UMa\", \"UU Vir\", \"AE Boo\", \"TV Boo\", \"ST CVn\", \"UY Cam\", \"YZ Cap\", \"RZ Cep\", \"RV CrB\", \"CS Eri\", \"BX Leo\", \"DH Peg\", \"RU Psc\", \"SV Scl\", \"AP Ser\", \"T Sex\", \"MT Tel\", \"AM Tuc\", \"SX UMa\", \"CU Com\"]\n",
    "\n",
    "#With V* prefix to match the SIMBAD notation\n",
    "Monson_RRL_stars = [\"V* SW And\", \"V* XX And\", \"V* WY Ant\", \"V* X Ari\", \"V* ST Boo\", \"V* UY Boo\", \"V* RR Cet\", \"V* W Crt\", \"V* UY Cyg\", \"V* XZ Cyg\", \"V* DX Del\", \"V* SU Dra\", \"V* SW Dra\", \"V* RX Eri\", \"V* SV Eri\", \"V* RR Gem\", \"V* TW Her\", \"V* VX Her\", \"V* SV Hya\", \"V* V Ind\", \"V* RR Leo\", \"V* TT Lyn\", \"V* RR Lyr\", \"V* RV Oct\", \"V* UV Oct\", \"V* AV Peg\", \"V* BH Peg\", \"V* BB Pup\", \"V* HK Pup\", \"V* RU Scl\", \"V* AN Ser\", \"V* V0440 Sgr\", \"V* V0675 Sgr\", \"V* AB UMa\", \"V* RV UMa\", \"V* TU UMa\", \"V* UU Vir\", \"V* AE Boo\", \"V* TV Boo\", \"V* ST CVn\", \"V* UY Cam\", \"V* YZ Cap\", \"V* RZ Cep\", \"V* RV CrB\", \"V* CS Eri\", \"V* BX Leo\", \"V* DH Peg\", \"V* RU Psc\", \"V* SV Scl\", \"V* AP Ser\", \"V* T Sex\", \"V* MT Tel\", \"V* AM Tuc\", \"V* SX UMa\", \"V* CU Com\"]"
   ]
  },
  {
   "cell_type": "code",
   "execution_count": 4,
   "id": "f586cb22-ae9b-4738-8309-600510aaf432",
   "metadata": {},
   "outputs": [],
   "source": [
    "def get_variable_stars(latitude, min_alt, mag_limit):\n",
    "\n",
    "    # Declination bounds for visibility based on observation site\n",
    "    # Saves time during simbad search as not wasting time looking at stars that will never be visible\n",
    "    dec_min = latitude - (90 - min_alt)\n",
    "    dec_max = latitude + (90 - min_alt)\n",
    "    dec_max = min(dec_max, 90.0)  # Declination can't exceed 90 degrees\n",
    "\n",
    "    # ADQL code of getting the required info, stops repeat data and only gets stars we have a chance at seeing\n",
    "    query = f\"\"\"\n",
    "        SELECT basic.main_id, AVG(period) AS period, AVG(flux) AS flux, basic.ra, basic.dec\n",
    "        FROM basic\n",
    "        JOIN flux ON basic.oid = flux.oidref\n",
    "        JOIN mesVar ON basic.oid = mesVar.oidref\n",
    "        WHERE basic.otype = 'RR*' \n",
    "            AND flux <= {mag_limit}\n",
    "            AND basic.dec BETWEEN {dec_min:} AND {dec_max:}\n",
    "        GROUP BY basic.main_id, basic.ra, basic.dec, basic.otype\n",
    "        ORDER BY main_id ASC\n",
    "        \"\"\"\n",
    "    \n",
    "    result = Simbad.query_tap(query) # Getting data for all potentially visible RR* stars\n",
    "\n",
    "    # Converting to and cleaning up dataframe\n",
    "    df = result.to_pandas()\n",
    "    df.columns = [c.strip().lower().replace(\" \", \"_\") for c in df.columns]\n",
    "    \n",
    "    return df"
   ]
  },
  {
   "cell_type": "code",
   "execution_count": 5,
   "id": "8320b684-18ef-488d-94d6-33036f87d713",
   "metadata": {},
   "outputs": [],
   "source": [
    "def find_nightly_targets(df, site, start_date, end_date, dt_minutes=10.0, min_altitude=30.0, sun_night_threshold=-12.0):\n",
    "\n",
    "    # Time grid\n",
    "    tstart = Time(start_date)\n",
    "    tend = Time(end_date)\n",
    "\n",
    "    # This is here because I keep typing in the date wrong\n",
    "    if tend <= tstart: raise ValueError(\"end_date must be after start_date\")\n",
    "\n",
    "    # Creates an array of times with intervals of df mins\n",
    "    n_minutes = int(np.ceil((tend - tstart).to(u.min).value))\n",
    "    times = tstart + np.arange(0, n_minutes + 1, dt_minutes) * u.min\n",
    "\n",
    "    # Location and ref frame\n",
    "    location = EarthLocation(lat=site[0]*u.deg, lon=site[1]*u.deg, height=site[2]*u.m)\n",
    "    frame = AltAz(obstime=times, location=location)\n",
    "\n",
    "    # Sun altitude and night mask\n",
    "    sun_altitudes = get_sun(times).transform_to(frame).alt.deg\n",
    "    is_night = sun_altitudes < sun_night_threshold\n",
    "\n",
    "    # No night in interval, stops function\n",
    "    if not np.any(is_night):\n",
    "        filtered_df = df.iloc[0:0].copy()\n",
    "        if return_visibility_hours:\n",
    "            return filtered_df, {}\n",
    "        return filtered_df\n",
    "    \n",
    "    # Making sure ra/dec are plain numpy arrays\n",
    "    ra = np.asarray(df[\"ra\"].values, dtype=float)\n",
    "    dec = np.asarray(df[\"dec\"].values, dtype=float)\n",
    "\n",
    "    # Coords of the stars in ra/dec then converted to alt/az\n",
    "    coords = SkyCoord(ra=ra * u.deg, dec=dec * u.deg)\n",
    "    altaz = coords[:, None].transform_to(frame) \n",
    "    altitudes = altaz.alt.deg.T    # Height in the sky\n",
    "\n",
    "    # Apply night mask, only times at night\n",
    "    night_altitudes = altitudes[is_night, :]\n",
    "\n",
    "    # True if any time in night  time altitudes >= min altitude\n",
    "    meets_alt = np.any(night_altitudes >= min_altitude, axis=0)\n",
    "\n",
    "    # Compute hours visible for every star (even 0) so we can add to df\n",
    "    dt_hours = dt_minutes / 60.0\n",
    "    hours_per_star = np.sum(night_altitudes >= min_altitude, axis=0) * dt_hours\n",
    "\n",
    "    # Attach hours to the original df\n",
    "    df = df.copy()\n",
    "    df[\"hours_visible\"] = hours_per_star\n",
    "\n",
    "    # Select rows that meet the criterion (hours > 0)\n",
    "    filtered_df = df.loc[hours_per_star > 0].reset_index(drop=True)\n",
    "\n",
    "    return filtered_df"
   ]
  },
  {
   "cell_type": "code",
   "execution_count": 6,
   "id": "03dc7206-bcea-4638-be11-e5a996e8c766",
   "metadata": {},
   "outputs": [
    {
     "name": "stdout",
     "output_type": "stream",
     "text": [
      "Stars that appear above 30° during night in the interval (sorted by hours_visible):\n",
      "  main_id         ra       dec  hours_visible\n",
      "V* XX And  19.364226 38.950569      20.333333\n",
      "V* RZ Cep 339.804904 64.858503      20.333333\n",
      "V* SW Dra 184.444285 69.510620      20.333333\n",
      "V* SW And   5.929540 29.401007      19.833333\n",
      "V* RU Psc  18.608488 24.415658      18.666667\n",
      "V* XZ Cyg 293.122105 56.388193      15.333333\n",
      "V* BH Peg 343.254321 15.787947      14.666667\n",
      "V* AV Peg 328.011644 22.574827      13.666667\n",
      "V* SU Dra 174.485863 67.329739      13.666667\n",
      "V* UY Cyg 314.117929 30.427869      13.166667\n",
      " V* X Ari  47.128686 10.445894      12.666667\n",
      "V* RR Lyr 291.366304 42.784359      12.000000\n",
      "V* DH Peg 333.856832  6.822622      11.833333\n",
      "V* RR Cet  23.034055  1.341731      10.500000\n",
      "V* DX Del 311.868148 12.464078      10.000000\n",
      "V* TT Lyn 135.782444 44.585589       6.333333\n",
      "V* RV UMa 203.325350 53.987388       2.666667\n",
      "V* VX Her 247.670011 18.366826       2.333333\n",
      "V* RR Leo 151.931086 23.991755       0.833333\n",
      "V* AB UMa 182.810788 47.828832       0.666667\n",
      "V* AN Ser 238.379388 12.961142       0.166667\n"
     ]
    }
   ],
   "source": [
    "# Getting candidate stars by declination/flux prefilter\n",
    "candidates = get_variable_stars(BPO[0], min_alt=30.0, mag_limit=10.0)\n",
    "\n",
    "# Filtering by visabliity\n",
    "filtered_RRL = find_nightly_targets(candidates, BPO, start_date, end_date, dt_minutes=10.0, min_altitude=30.0)\n",
    "\n",
    "# Restrict to Monson list\n",
    "RRL = filtered_RRL[filtered_RRL[\"main_id\"].isin(Monson_RRL_stars)].reset_index(drop=True)\n",
    "\n",
    "# Print the filtered DataFrame including the hours visible, sorted by hours descending\n",
    "print(\"Stars that appear above 30° during night in the interval (sorted by hours_visible):\")\n",
    "print(RRL[[\"main_id\", \"ra\", \"dec\", \"hours_visible\"]].sort_values(\"hours_visible\", ascending=False).to_string(index=False))"
   ]
  },
  {
   "cell_type": "markdown",
   "id": "edb7400b-f64b-41a6-aa51-34666aec0fdd",
   "metadata": {},
   "source": [
    "## Plotting star paths"
   ]
  },
  {
   "cell_type": "code",
   "execution_count": 7,
   "id": "e2d210c6-fa80-4493-a517-13b8cc86870a",
   "metadata": {},
   "outputs": [],
   "source": [
    "def plot_star_path(df, names, site, start_date, end_date, dt_minutes=10.0, min_altitude=30.0):\n",
    "    \n",
    "    # Select stars\n",
    "    plot_stars = df[df[\"main_id\"].isin(names)]\n",
    "    if plot_stars.empty: raise ValueError(\"No matching stars found in data frame\")\n",
    "\n",
    "    # Build time array from start_date to end_date with steps of dt_minutes\n",
    "    tstart = Time(start_date)\n",
    "    tend = Time(end_date)\n",
    "    if tend <= tstart: raise ValueError(\"end_date must be after start_date\")\n",
    "\n",
    "    n_minutes = int(np.ceil((tend - tstart).to(u.min).value))\n",
    "    times = tstart + np.arange(0, n_minutes + 1, dt_minutes) * u.min\n",
    "\n",
    "    # Observer frame\n",
    "    location = EarthLocation(lat=site[0]*u.deg, lon=site[1]*u.deg, height=site[2]*u.m)\n",
    "    frame = AltAz(obstime=times, location=location)\n",
    "\n",
    "    # Sun altitudes for shading\n",
    "    sun_altitudes = get_sun(times).transform_to(frame).alt.deg\n",
    "\n",
    "    plt.figure(figsize=(12,6))\n",
    "    ax = plt.gca()\n",
    "\n",
    "    # Colours depending on sunlight\n",
    "    sky_shade = {\"daylight\": \"#ffffcc\", \"civil\": \"#ffe6cc\", \"nautical\": \"#e6f2ff\", \"astronomical\": \"#e6e6ff\", \"night\": \"#d9d9d9\"}\n",
    "\n",
    "    # Shade background by sun altitude bands\n",
    "    for i in range(len(times) - 1):\n",
    "        alt = sun_altitudes[i]\n",
    "        t0 = times[i].plot_date\n",
    "        t1 = times[i+1].plot_date\n",
    "\n",
    "        if alt > 0: shade = sky_shade[\"daylight\"]\n",
    "        elif alt > -6: shade = sky_shade[\"civil\"]\n",
    "        elif alt > -12: shade = sky_shade[\"nautical\"]\n",
    "        elif alt > -18: shade = sky_shade[\"astronomical\"]\n",
    "        else: shade = sky_shade[\"night\"]\n",
    "\n",
    "        ax.axvspan(t0, t1, color=shade)    #setting that section of the graph to the corresponding colour\n",
    "\n",
    "    # Compute alt/az for all selected stars at once\n",
    "    ra = np.asarray(plot_stars[\"ra\"].values, dtype=float)\n",
    "    dec = np.asarray(plot_stars[\"dec\"].values, dtype=float)\n",
    "    coords = SkyCoord(ra=ra * u.deg, dec=dec * u.deg)\n",
    "    \n",
    "    # transform to alt/az coord system\n",
    "    altaz = coords[:, None].transform_to(frame)\n",
    "    altitudes = altaz.alt.deg.T\n",
    "\n",
    "    # Plot each star's altitude track\n",
    "    for col_idx, name in enumerate(plot_stars[\"main_id\"].values):\n",
    "        plt.plot(times.plot_date, altitudes[:, col_idx], label=name)\n",
    "\n",
    "    # Minimum altitude line\n",
    "    plt.axhline(min_altitude, color=\"k\", linestyle=\"--\", linewidth=0.8, label=f\"min alt {min_altitude} deg\")\n",
    "\n",
    "    # Formatting\n",
    "    plt.gca().xaxis.set_major_formatter(DateFormatter(\"%d-%m-%Y\\n%H:%M\"))\n",
    "    plt.ylabel(\"Altitude (deg)\")\n",
    "    plt.xlabel(\"Time\")\n",
    "    plt.ylim(0, 95)\n",
    "    plt.legend(loc=\"best\", fontsize=\"small\", ncol=2)\n",
    "    plt.grid(alpha=0.3)\n",
    "    plt.tight_layout()\n",
    "    plt.show()"
   ]
  },
  {
   "cell_type": "code",
   "execution_count": 8,
   "id": "4b17f44e-ab67-4ab1-8f67-4783931bed98",
   "metadata": {},
   "outputs": [
    {
     "data": {
      "image/png": "[encoded data removed]",
      "text/plain": [
       "<Figure size 1200x600 with 1 Axes>"
      ]
     },
     "metadata": {},
     "output_type": "display_data"
    }
   ],
   "source": [
    "plot_stars = [\"V* RV UMa\", \"V* RZ Cep\"]         # Previous years\n",
    "#plot_stars = RRL['main_id'].to_list()    # Stars found through SIMBAD\n",
    "\n",
    "# Plot star paths during a window\n",
    "plot_star_path(RRL, plot_stars, BPO, start_date=\"2025-10-03T18:00:00\", end_date=\"2025-10-04T06:00:00\", dt_minutes=10, min_altitude=30)"
   ]
  },
  {
   "cell_type": "markdown",
   "id": "b3ff687e-1e31-4ea5-8fc6-8b015f0119b6",
   "metadata": {},
   "source": [
    "## Finding closest standard stars"
   ]
  },
  {
   "cell_type": "code",
   "execution_count": 9,
   "id": "e4792c17-68c0-44eb-b800-50319463432a",
   "metadata": {},
   "outputs": [],
   "source": [
    "# Reading in a file containing info about landolt standard stars in the northen hemisphere\n",
    "All_SS = pd.read_csv(\"data/landolt_north.csv\",delimiter = \"|\")\n",
    "All_SS.columns = ['oid', 'main_id', 'ra', 'dec']\n",
    "\n",
    "# Filter using the same method as the RRl stars\n",
    "SS = find_nightly_targets(All_SS, BPO, start_date, end_date, dt_minutes=10.0, min_altitude=30.0)"
   ]
  },
  {
   "cell_type": "code",
   "execution_count": 10,
   "id": "d6d11456-b28a-4993-800c-a94ea338ec82",
   "metadata": {},
   "outputs": [],
   "source": [
    "def match_to_standards(vars_df, stds_df, vars_ra_col=\"ra\", vars_dec_col=\"dec\", stds_ra_col=\"ra\", stds_dec_col=\"dec\", std_name_col=\"main_id\", max_sep_arcsec=None):\n",
    "\n",
    "    # Making sure there are numeric arrays\n",
    "    vars_ra = np.asarray(vars_df[vars_ra_col].values, dtype=float)\n",
    "    vars_dec = np.asarray(vars_df[vars_dec_col].values, dtype=float)\n",
    "    stds_ra = np.asarray(stds_df[stds_ra_col].values, dtype=float)\n",
    "    stds_dec = np.asarray(stds_df[stds_dec_col].values, dtype=float)\n",
    "\n",
    "    # Build SkyCoord objects\n",
    "    coords_vars = SkyCoord(ra=vars_ra * u.deg, dec=vars_dec * u.deg)\n",
    "    coords_stds = SkyCoord(ra=stds_ra * u.deg, dec=stds_dec * u.deg)\n",
    "\n",
    "    # Match each variable to the nearest standard star\n",
    "    idx, sep2d, _ = coords_vars.match_to_catalog_sky(coords_stds)\n",
    "\n",
    "    # Making df\n",
    "    result = vars_df.copy().reset_index(drop=True)\n",
    "    matched_names = pd.Series([stds_df.iloc[i][std_name_col] if (0 <= i < len(stds_df)) else None for i in idx])    \n",
    "\n",
    "    result[\"matched_standard\"] = matched_names.values\n",
    "    result[\"match_sep_arcsec\"] = sep2d.arcsec\n",
    "\n",
    "    # If standard star is too far from varible star\n",
    "    if max_sep_arcsec is not None:\n",
    "        mask_too_far = result[\"match_sep_arcsec\"] > float(max_sep_arcsec)\n",
    "        result.loc[mask_too_far, [\"matched_standard\", \"matched_index\", \"match_sep_arcsec\"]] = [pd.NA, pd.NA, np.nan]\n",
    "\n",
    "    return result"
   ]
  },
  {
   "cell_type": "code",
   "execution_count": 11,
   "id": "a43081cd-3150-4f3d-9927-90bbb06c26b6",
   "metadata": {},
   "outputs": [
    {
     "name": "stdout",
     "output_type": "stream",
     "text": [
      "  main_id   period     flux         ra       dec  hours_visible      matched_standard  match_sep_arcsec\n",
      "V* XX And 0.722608 9.475000  19.364226 38.950569      20.333333 UCAC4 648-004238            7516.062506\n",
      "V* RV UMa 0.468049 9.827000 203.325350 53.987388       2.666667 PG 1343+578                13978.742300\n",
      "V* SW And 0.442283 9.066586   5.929540 29.401007      19.833333 UCAC4 608-001920           14591.403452\n",
      "V* TT Lyn 0.552655 9.275844 135.782444 44.585589       6.333333 UCAC4 652-048948           15893.956472\n",
      "V* AB UMa 0.599582 9.714000 182.810788 47.828832       0.666667 UCAC4 716-051194           18804.219748\n",
      "V* RR Lyr 0.498414 7.144801 291.366304 42.784359      12.000000 UCAC4 676-066011           23962.644127\n",
      "V* SU Dra 0.660340 9.257904 174.485863 67.329739      13.666667 UCAC4 754-046742           26191.955645\n",
      "V* SW Dra 0.569680 9.325666 184.444285 69.510620      20.333333 TYC 4154-408-1             32367.964734\n",
      "V* UY Cyg 0.560744 9.792667 314.117929 30.427869      13.166667 GD 391                     37221.467762\n",
      "V* RU Psc 0.390365 9.153667  18.608488 24.415658      18.666667 GD 8                       37558.964431\n",
      "V* XZ Cyg 0.467775 9.424626 293.122105 56.388193      15.333333 TYC 3540-2710-1            46456.657420\n",
      "V* RZ Cep 0.308685 8.831610 339.804904 64.858503      20.333333 GD 410                     49132.345844\n",
      "V* VX Her 0.455394 9.578334 247.670011 18.366826       2.333333 UCAC4 612-053329           52277.107374\n",
      "V* RR Leo 0.452383 9.794000 151.931086 23.991755       0.833333 KUV 10022+3901             53240.782243\n",
      "V* BH Peg 0.640926 9.329667 343.254321 15.787947      14.666667 GD 251                     59507.757945\n",
      "V* AV Peg 0.406343 9.549750 328.011644 22.574827      13.666667 TYC 3604-362-1             81537.939230\n",
      "V* AN Ser 0.522099 9.903500 238.379388 12.961142       0.166667 UCAC4 612-053329           82851.551373\n",
      "V* DX Del 0.472570 9.375380 311.868148 12.464078      10.000000 GD 391                     97350.457884\n",
      " V* X Ari 0.651190 8.746767  47.128686 10.445894      12.666667 GD 38                      99372.037992\n",
      "V* DH Peg 0.255507 9.155023 333.856832  6.822622      11.833333 GD 251                    105030.834265\n",
      "V* RR Cet 0.553081 9.122208  23.034055  1.341731      10.500000 GD 8                      117450.331993\n"
     ]
    }
   ],
   "source": [
    "# Find nearest standard for every RRL\n",
    "matched = match_to_standards(RRL, SS)\n",
    "\n",
    "# Show all results\n",
    "print(matched.sort_values(\"match_sep_arcsec\").to_string(index=False))"
   ]
  },
  {
   "cell_type": "markdown",
   "id": "fb801a05-f9f5-4ad3-8d4e-17d3c22cf94c",
   "metadata": {},
   "source": [
    "## Moon stuff"
   ]
  },
  {
   "cell_type": "code",
   "execution_count": 14,
   "id": "8b4e42bd-758f-4116-af18-c8b73862b088",
   "metadata": {},
   "outputs": [
    {
     "name": "stdout",
     "output_type": "stream",
     "text": [
      "0.8514241652900947\n"
     ]
    }
   ],
   "source": [
    "from astropy.time import Time\n",
    "from astroplan import moon_illumination\n",
    "\n",
    "time = Time(start_date)\n",
    "\n",
    "illumination = moon_illumination(time)\n",
    "print(illumination)"
   ]
  },
  {
   "cell_type": "code",
   "execution_count": null,
   "id": "4e171ef1-8a5c-4da2-a773-e68ce49a946f",
   "metadata": {},
   "outputs": [],
   "source": []
  }
 ],
 "metadata": {
  "kernelspec": {
   "display_name": "Python 3 (ipykernel)",
   "language": "python",
   "name": "python3"
  },
  "language_info": {
   "codemirror_mode": {
    "name": "ipython",
    "version": 3
   },
   "file_extension": ".py",
   "mimetype": "text/x-python",
   "name": "python",
   "nbconvert_exporter": "python",
   "pygments_lexer": "ipython3",
   "version": "3.13.5"
  }
 },
 "nbformat": 4,
 "nbformat_minor": 5
}
