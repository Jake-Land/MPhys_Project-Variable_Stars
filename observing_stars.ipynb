{
 "cells": [
  {
   "cell_type": "code",
   "execution_count": 1,
   "id": "74881f53-0575-4407-b059-1584f4d399ed",
   "metadata": {},
   "outputs": [],
   "source": [
    "import numpy as np\n",
    "import matplotlib.pyplot as plt\n",
    "from astropy.modeling import models, fitting\n",
    "from astropy.modeling.models import custom_model\n",
    "from astropy.modeling import Fittable1DModel, Parameter\n",
    "from astroquery.simbad import Simbad\n",
    "import juliandate as jd\n",
    "from datetime import datetime, timedelta\n",
    "import pandas as pd\n",
    "from time import sleep"
   ]
  },
  {
   "cell_type": "markdown",
   "id": "6f795e78-7d7e-437a-bb6c-ca1e459c1ed3",
   "metadata": {},
   "source": [
    "We have N stars each with period p_(n), p_(n+1), etc... We need to maximise phase coverage for our observations, i.e. no observing that star at the same phase more than once.\n",
    "\n",
    "How to do this: For a specific star, n, calculate time difference between previous observations and the time for the current observation, del_t = t_0 - t_i. Divide these times by the period, phase_t = del_t/p. Discard all phase_t except for the one closest to a whole integer. If phase_t is an integer then we are observing at a phase already observed. For all N stars find the phase_t furthest from an integer (closest to 0.5, 1.5, ...) and observe it. Repeat untill we have measurements for the entire phase for all N stars."
   ]
  },
  {
   "cell_type": "markdown",
   "id": "58aeacad-ba41-4277-8e43-68133cfa59d1",
   "metadata": {},
   "source": [
    "Code:\n",
    "\n",
    "current_time = getDate\n",
    "star_greatest_offset = 0\n",
    "target_star = []\n",
    "\n",
    "for star in starsCatalog:\n",
    "    greatest_offset = 0\n",
    "    for observation in star[\"observations\"]:\n",
    "        phase_t = []\n",
    "        offset = (current_time - observation[\"date\"] / star[\"period\"]) % 1\n",
    "        if offset >= 0.5:\n",
    "            offset = 1 - offset\n",
    "        if offset > greatest_offset:\n",
    "            greatest_offset = offset\n",
    "    if greatest_offset > star_greatest_offset:\n",
    "        target_star = star\n",
    "\n",
    "//observe target_star\n"
   ]
  },
  {
   "cell_type": "code",
   "execution_count": 2,
   "id": "db65a8e4-718d-4a63-a079-393491f84643",
   "metadata": {},
   "outputs": [
    {
     "name": "stdout",
     "output_type": "stream",
     "text": [
      "2025-10-07 13:22:08.707503\n",
      "2460956.0570452255\n"
     ]
    }
   ],
   "source": [
    "ts = pd.Timestamp(datetime.now())\n",
    "current_time = ts.to_julian_date()\n",
    "print(ts)\n",
    "print(current_time)"
   ]
  },
  {
   "cell_type": "code",
   "execution_count": 3,
   "id": "1f4e2e27-6a98-4961-a78e-471239eba567",
   "metadata": {},
   "outputs": [
    {
     "name": "stdout",
     "output_type": "stream",
     "text": [
      " main_id  type  period \n",
      "--------- ---- --------\n",
      "V* RR Lyr RRAB 0.566787\n",
      "V* RV UMa RRAB 0.468071\n",
      "V* RZ Cep  RRC 0.308706\n"
     ]
    },
    {
     "data": {
      "text/html": [
       "<div>\n",
       "<style scoped>\n",
       "    .dataframe tbody tr th:only-of-type {\n",
       "        vertical-align: middle;\n",
       "    }\n",
       "\n",
       "    .dataframe tbody tr th {\n",
       "        vertical-align: top;\n",
       "    }\n",
       "\n",
       "    .dataframe thead th {\n",
       "        text-align: right;\n",
       "    }\n",
       "</style>\n",
       "<table border=\"1\" class=\"dataframe\">\n",
       "  <thead>\n",
       "    <tr style=\"text-align: right;\">\n",
       "      <th></th>\n",
       "      <th>main_id</th>\n",
       "      <th>type</th>\n",
       "      <th>period</th>\n",
       "    </tr>\n",
       "  </thead>\n",
       "  <tbody>\n",
       "    <tr>\n",
       "      <th>0</th>\n",
       "      <td>RR Lyr</td>\n",
       "      <td>RRAB</td>\n",
       "      <td>0.566787</td>\n",
       "    </tr>\n",
       "    <tr>\n",
       "      <th>1</th>\n",
       "      <td>RV UMa</td>\n",
       "      <td>RRAB</td>\n",
       "      <td>0.468071</td>\n",
       "    </tr>\n",
       "    <tr>\n",
       "      <th>2</th>\n",
       "      <td>RZ Cep</td>\n",
       "      <td>RRC</td>\n",
       "      <td>0.308706</td>\n",
       "    </tr>\n",
       "  </tbody>\n",
       "</table>\n",
       "</div>"
      ],
      "text/plain": [
       "  main_id  type    period\n",
       "0  RR Lyr  RRAB  0.566787\n",
       "1  RV UMa  RRAB  0.468071\n",
       "2  RZ Cep   RRC  0.308706"
      ]
     },
     "execution_count": 3,
     "metadata": {},
     "output_type": "execute_result"
    }
   ],
   "source": [
    "# Create star catalogue\n",
    "target_stars = ('RV UMa', 'RZ Cep', 'RR Lyr')\n",
    "\n",
    "#for star in target_stars:\n",
    "query = f\"\"\"\n",
    "SELECT basic.main_id, vartyp AS type, ROUND(AVG(period), 6) AS period\n",
    "FROM basic\n",
    "JOIN mesVar ON basic.oid = mesVar.oidref\n",
    "WHERE basic.otype = 'RR*'\n",
    "AND main_id IN {target_stars}\n",
    "GROUP BY basic.main_id, vartyp\n",
    "HAVING vartyp = 'RRAB' OR vartyp = 'RRC'\n",
    "\"\"\"\n",
    "result = Simbad.query_tap(query)\n",
    "print(result)\n",
    "stars_df = result.to_pandas()\n",
    "stars_df.main_id = [ star.replace('V*', '').strip() for star in stars_df.main_id]\n",
    "stars_df"
   ]
  },
  {
   "cell_type": "code",
   "execution_count": 4,
   "id": "2b7c41c7-d3d9-4aa7-86f6-289abb6a066a",
   "metadata": {},
   "outputs": [],
   "source": [
    "#Create dummy observation times\n",
    "\n",
    "dummy_time = pd.Timestamp('2025-09-23 21:09:02.442422')\n",
    "dummy_obs = []\n",
    "for i in range(15):\n",
    "    dummy_julian_time = dummy_time.to_julian_date()\n",
    "    dummy_time = dummy_time + timedelta(minutes = 10)\n",
    "    dummy_obs = np.append(dummy_obs, dummy_julian_time)\n",
    "\n",
    "#print(dummy_obs)\n",
    "\n",
    "RV_UMa_dummy_obs = dummy_obs[0::3]\n",
    "RZ_Cep_dummy_obs = dummy_obs[1::3]\n",
    "RR_Lyr_dummy_obs = dummy_obs[2::3]\n",
    "\n",
    "#print(RV_UMa_dummy_obs)\n",
    "#print(RZ_Cep_dummy_obs)\n",
    "#print(RR_Lyr_dummy_obs)\n"
   ]
  },
  {
   "cell_type": "code",
   "execution_count": 5,
   "id": "0fe592dd-528c-4e95-a349-e2e92b4a11e0",
   "metadata": {},
   "outputs": [
    {
     "data": {
      "text/html": [
       "<div>\n",
       "<style scoped>\n",
       "    .dataframe tbody tr th:only-of-type {\n",
       "        vertical-align: middle;\n",
       "    }\n",
       "\n",
       "    .dataframe tbody tr th {\n",
       "        vertical-align: top;\n",
       "    }\n",
       "\n",
       "    .dataframe thead th {\n",
       "        text-align: right;\n",
       "    }\n",
       "</style>\n",
       "<table border=\"1\" class=\"dataframe\">\n",
       "  <thead>\n",
       "    <tr style=\"text-align: right;\">\n",
       "      <th></th>\n",
       "      <th>main_id</th>\n",
       "      <th>obs_times</th>\n",
       "    </tr>\n",
       "  </thead>\n",
       "  <tbody>\n",
       "    <tr>\n",
       "      <th>0</th>\n",
       "      <td>RV UMa</td>\n",
       "      <td>[2460942.381278269, 2460942.402111602, 2460942...</td>\n",
       "    </tr>\n",
       "    <tr>\n",
       "      <th>1</th>\n",
       "      <td>RZ Cep</td>\n",
       "      <td>[2460942.388222713, 2460942.4090560465, 246094...</td>\n",
       "    </tr>\n",
       "    <tr>\n",
       "      <th>2</th>\n",
       "      <td>RR Lyr</td>\n",
       "      <td>[2460942.3951671575, 2460942.416000491, 246094...</td>\n",
       "    </tr>\n",
       "  </tbody>\n",
       "</table>\n",
       "</div>"
      ],
      "text/plain": [
       "  main_id                                          obs_times\n",
       "0  RV UMa  [2460942.381278269, 2460942.402111602, 2460942...\n",
       "1  RZ Cep  [2460942.388222713, 2460942.4090560465, 246094...\n",
       "2  RR Lyr  [2460942.3951671575, 2460942.416000491, 246094..."
      ]
     },
     "execution_count": 5,
     "metadata": {},
     "output_type": "execute_result"
    }
   ],
   "source": [
    "observations_df = pd.DataFrame(\n",
    "    {\n",
    "        \"main_id\": target_stars,\n",
    "        \"obs_times\": [RV_UMa_dummy_obs, RZ_Cep_dummy_obs, RR_Lyr_dummy_obs]\n",
    "    }\n",
    ")\n",
    "\n",
    "observations_df"
   ]
  },
  {
   "cell_type": "code",
   "execution_count": 6,
   "id": "9fd6fb26-3788-4a80-b884-3a2fb94ec9c6",
   "metadata": {},
   "outputs": [
    {
     "data": {
      "text/html": [
       "<div>\n",
       "<style scoped>\n",
       "    .dataframe tbody tr th:only-of-type {\n",
       "        vertical-align: middle;\n",
       "    }\n",
       "\n",
       "    .dataframe tbody tr th {\n",
       "        vertical-align: top;\n",
       "    }\n",
       "\n",
       "    .dataframe thead th {\n",
       "        text-align: right;\n",
       "    }\n",
       "</style>\n",
       "<table border=\"1\" class=\"dataframe\">\n",
       "  <thead>\n",
       "    <tr style=\"text-align: right;\">\n",
       "      <th></th>\n",
       "      <th>main_id</th>\n",
       "      <th>type</th>\n",
       "      <th>period</th>\n",
       "      <th>obs_times</th>\n",
       "    </tr>\n",
       "  </thead>\n",
       "  <tbody>\n",
       "    <tr>\n",
       "      <th>0</th>\n",
       "      <td>RR Lyr</td>\n",
       "      <td>RRAB</td>\n",
       "      <td>0.566787</td>\n",
       "      <td>[2460942.3951671575, 2460942.416000491, 246094...</td>\n",
       "    </tr>\n",
       "    <tr>\n",
       "      <th>1</th>\n",
       "      <td>RV UMa</td>\n",
       "      <td>RRAB</td>\n",
       "      <td>0.468071</td>\n",
       "      <td>[2460942.381278269, 2460942.402111602, 2460942...</td>\n",
       "    </tr>\n",
       "    <tr>\n",
       "      <th>2</th>\n",
       "      <td>RZ Cep</td>\n",
       "      <td>RRC</td>\n",
       "      <td>0.308706</td>\n",
       "      <td>[2460942.388222713, 2460942.4090560465, 246094...</td>\n",
       "    </tr>\n",
       "  </tbody>\n",
       "</table>\n",
       "</div>"
      ],
      "text/plain": [
       "  main_id  type    period                                          obs_times\n",
       "0  RR Lyr  RRAB  0.566787  [2460942.3951671575, 2460942.416000491, 246094...\n",
       "1  RV UMa  RRAB  0.468071  [2460942.381278269, 2460942.402111602, 2460942...\n",
       "2  RZ Cep   RRC  0.308706  [2460942.388222713, 2460942.4090560465, 246094..."
      ]
     },
     "execution_count": 6,
     "metadata": {},
     "output_type": "execute_result"
    }
   ],
   "source": [
    "catalogue_df = pd.merge(stars_df, observations_df, on=\"main_id\")\n",
    "catalogue_df"
   ]
  },
  {
   "cell_type": "code",
   "execution_count": 9,
   "id": "178020d8-91db-447e-8e6b-19a8cd3a7583",
   "metadata": {},
   "outputs": [
    {
     "name": "stdout",
     "output_type": "stream",
     "text": [
      "0.4816430131904781\n",
      "RR Lyr\n"
     ]
    }
   ],
   "source": [
    "star_greatest_offset = 0\n",
    "target_star = \"\"\n",
    "\n",
    "for index, row in catalogue_df.iterrows():\n",
    "    greatest_offset = 0\n",
    "    for obs_time in row[\"obs_times\"]:\n",
    "        offset = (current_time - obs_time/ row[\"period\"]) % 1\n",
    "        if offset >= 0.5:\n",
    "            offset = 1 - offset\n",
    "        if offset > greatest_offset:\n",
    "            greatest_offset = offset\n",
    "    if greatest_offset > star_greatest_offset:\n",
    "        star_greatest_offset = greatest_offset\n",
    "        target_star = row[\"main_id\"]\n",
    "        print(star_greatest_offset)\n",
    "        \n",
    "print(target_star)"
   ]
  },
  {
   "cell_type": "code",
   "execution_count": 8,
   "id": "e3be2645-f5c4-4b3e-a9ed-6f2275e14c3a",
   "metadata": {},
   "outputs": [],
   "source": [
    "#for index, row in catalogue_df.iterrows():\n",
    "#    greatest_offset = 0\n",
    "#    for obs_times in row[\"obs_times\"]:\n",
    "#        phase_t = []\n",
    "#        offset = (current_time - obs_time / row[\"period\"]) % 1\n",
    "#        if offset >= 0.5:\n",
    "#            offset = 1 - offset\n",
    "#        if offset > greatest_offset:\n",
    "#            greatest_offset = offset\n",
    "#    if greatest_offset > star_greatest_offset:\n",
    "#        target_star = star"
   ]
  }
 ],
 "metadata": {
  "kernelspec": {
   "display_name": "Python 3 (ipykernel)",
   "language": "python",
   "name": "python3"
  },
  "language_info": {
   "codemirror_mode": {
    "name": "ipython",
    "version": 3
   },
   "file_extension": ".py",
   "mimetype": "text/x-python",
   "name": "python",
   "nbconvert_exporter": "python",
   "pygments_lexer": "ipython3",
   "version": "3.12.11"
  }
 },
 "nbformat": 4,
 "nbformat_minor": 5
}
